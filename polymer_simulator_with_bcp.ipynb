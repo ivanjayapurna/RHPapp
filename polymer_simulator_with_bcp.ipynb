{
 "cells": [
  {
   "cell_type": "markdown",
   "metadata": {},
   "source": [
    "# Simulate Sequences, BCP"
   ]
  },
  {
   "cell_type": "markdown",
   "metadata": {},
   "source": [
    "This Jupyter Notebook combines the functionality of bcp and HTP_CompDrift. It simulates the construction of an RHP with four specified monomers and then solves for the reaction conditions required given four specified monomers. The calculations require three database files to be present: `initiators.txt` which contains a list of initiators, `reagent_master_list.txt` which is a master database of reagents, and `rr_data.txt` which contains the reactivity ratio data of monomer components. Currently, the three are dummy data files but can be expanded."
   ]
  },
  {
   "cell_type": "code",
   "execution_count": 1,
   "metadata": {},
   "outputs": [],
   "source": [
    "import pandas as pd\n",
    "import numpy as np\n",
    "import glob, os\n",
    "import csv\n",
    "import math\n",
    "import matplotlib\n",
    "import matplotlib.pyplot as plt\n",
    "import seaborn as sns\n",
    "import copy\n",
    "from tqdm import tqdm_notebook\n",
    "from itertools import tee\n",
    "import re\n",
    "\n",
    "from simulate import run_simulation, rr_extracter\n",
    "from bcp_v2 import main as calculate_bcp\n",
    "from jupyter_utils import plot_heterogeneity\n",
    "\n",
    "matplotlib.rcParams['pdf.fonttype'] = 42\n",
    "matplotlib.rcParams['ps.fonttype'] = 42\n",
    "\n",
    "\n",
    "#SMALL_SIZE = 20\n",
    "#MEDIUM_SIZE = 25\n",
    "#BIGGER_SIZE = 35\n",
    "XUGROUP_IGOR_MACRO_SIZE = 22\n",
    "\n",
    "plt.rc('font', family='Helvetica', size=XUGROUP_IGOR_MACRO_SIZE)  # controls default text sizes\n",
    "plt.rc('axes', titlesize=XUGROUP_IGOR_MACRO_SIZE)  # fontsize of the axes title\n",
    "plt.rc('axes', labelsize=XUGROUP_IGOR_MACRO_SIZE)  # fontsize of the x and y labels\n",
    "plt.rc('xtick', labelsize=XUGROUP_IGOR_MACRO_SIZE)    # fontsize of the tick labels\n",
    "plt.rc('ytick', labelsize=XUGROUP_IGOR_MACRO_SIZE)    # fontsize of the tick labels\n",
    "plt.rc('legend', fontsize=XUGROUP_IGOR_MACRO_SIZE)    # legend fontsize\n",
    "plt.rc('figure', titlesize=XUGROUP_IGOR_MACRO_SIZE)  # fontsize of the figure title\n",
    "plt.rc('lines', linewidth=1.5) # thicker lines to match Xu Group Igor Macros\n",
    "\n",
    "df_new = pd.read_csv('data/reagent_master_list.txt', delimiter='\\t')\n",
    "df_new.index = df_new['Code']\n",
    "\n",
    "rr_df = pd.read_csv('data/rr_data.txt', delimiter='\\t')\n",
    "rr_df.index = rr_df['reac']\n",
    "rr_df = rr_df.drop('reac', 1)"
   ]
  },
  {
   "cell_type": "markdown",
   "metadata": {},
   "source": [
    "### Input Program Variables"
   ]
  },
  {
   "cell_type": "code",
   "execution_count": 2,
   "metadata": {},
   "outputs": [],
   "source": [
    "#LIST 4 MONOMERS DESIRED FOR CONSTRUCTION\n",
    "monomers = [\"MMA\",\"TBMA\",\"NHSMA\",\"STY\"]\n",
    "\n",
    "#SPECIFY MOLAR RATIOS\n",
    "MRs = [4,3,2,1]\n",
    "\n",
    "#SET CONVERSION % AND AVERAGE DP\n",
    "conv = 0.5\n",
    "avgDP = 105\n",
    "\n",
    "#SET N_CHAINS, CTP, and whether to PRUNE_OLIGOMERS\n",
    "N_CHAINs = 1000\n",
    "CTP = 1\n",
    "PRUNE_OLIGOMERS = 0\n",
    "\n",
    "#SET INTERNAL STANDARD, INITIATOR, RAFT AGENT, AND SOLVENT\n",
    "int_std = 'TriOx'\n",
    "int_std_mw = 1\n",
    "initiator = 'AIBN'\n",
    "init_conc = 1\n",
    "raft = 'RAFTPBT'\n",
    "raft_mw = 2\n",
    "solvent = 'Tol'\n",
    "\n",
    "#SET RAFT-TO-INITIATOR RATIO AND TARGET MW\n",
    "i_r_ratio = 1\n",
    "target_mw = 5\n",
    "\n",
    "#SET OTHER REACTION PARAMETERS\n",
    "rxn_scale = 1 #MMOL\n",
    "rxn_vol = 1 #LITERS\n",
    "rxn_temp = 20 #CELSIUS"
   ]
  },
  {
   "cell_type": "markdown",
   "metadata": {},
   "source": [
    "### Runs Polymer Simulator and BCP"
   ]
  },
  {
   "cell_type": "code",
   "execution_count": 3,
   "metadata": {
    "scrolled": true
   },
   "outputs": [
    {
     "name": "stdout",
     "output_type": "stream",
     "text": [
      "Simulation done! Sequence file saved @ outputs/NM4_MR[4, 3, 2, 1]_NC1000_DP105_conv50_CTP100_FILT0.csv\n"
     ]
    },
    {
     "data": {
      "application/vnd.jupyter.widget-view+json": {
       "model_id": "e5b6de8c8fa745e9ab6c61dbbf9fbd8c",
       "version_major": 2,
       "version_minor": 0
      },
      "text/plain": [
       "HBox(children=(IntProgress(value=0, max=1), HTML(value='')))"
      ]
     },
     "metadata": {},
     "output_type": "display_data"
    },
    {
     "name": "stdout",
     "output_type": "stream",
     "text": [
      "\n"
     ]
    },
    {
     "name": "stderr",
     "output_type": "stream",
     "text": [
      "findfont: Font family ['Helvetica'] not found. Falling back to DejaVu Sans.\n"
     ]
    },
    {
     "data": {
      "image/png": "[encoded data removed]",
      "text/plain": [
       "<Figure size 4800x160 with 2 Axes>"
      ]
     },
     "metadata": {},
     "output_type": "display_data"
    },
    {
     "name": "stdout",
     "output_type": "stream",
     "text": [
      "initial guess mw: 13391.05\n"
     ]
    },
    {
     "name": "stderr",
     "output_type": "stream",
     "text": [
      "E:\\Anaconda\\lib\\site-packages\\scipy\\optimize\\minpack.py:162: RuntimeWarning: The iteration is not making good progress, as measured by the \n",
      "  improvement from the last ten iterations.\n",
      "  warnings.warn(msg, RuntimeWarning)\n"
     ]
    },
    {
     "name": "stdout",
     "output_type": "stream",
     "text": [
      "kd:  4.418944720260815e-08\n",
      "T0:  189415.66563374992\n",
      "I0:  378831.3312981893\n",
      "M0:  0.9999999999999999\n",
      "time: 32973.394583549816\n"
     ]
    },
    {
     "data": {
      "text/plain": [
       "('test experiment',\n",
       " 5,\n",
       " 325.47033379607154,\n",
       "                                               vol (mL)     mass (mg)      conc (M)   mols (mol)\n",
       " Methyl methacrylate                       4.190000e-02  3.920730e+01  4.000000e-01       0.0004\n",
       " tert-Butyl methacrylate                   4.780000e-02  4.181930e+01  3.000000e-01       0.0003\n",
       " NHS Methacrylate                         -0.000000e+00  3.579130e+01  2.000000e-01       0.0002\n",
       " Styrene                                   1.050000e-02  9.574300e+00  1.000000e-01       0.0001\n",
       " Trioxane                                 -0.000000e+00  6.010000e-02  1.000000e-02       0.0000\n",
       " Azobisisobutryonitrile                    3.110395e+07  3.110395e+07  1.894157e+05     189.4157\n",
       " Phthalimidomethyl butyl trithiocarbonate -0.000000e+00  6.164912e+07  1.894157e+05     189.4157\n",
       " Toluene                                  -3.110395e+07 -2.706043e+10 -2.936882e+08 -293688.2204\n",
       " Total                                     1.000000e+00 -2.696768e+10 -2.933094e+08 -293309.3881,\n",
       " -2.45278051184869,\n",
       " 32973.394583549816)"
      ]
     },
     "execution_count": 3,
     "metadata": {},
     "output_type": "execute_result"
    }
   ],
   "source": [
    "#NORMALIZES MONOMER RATIOS TO SUM TO 100\n",
    "N_MONs = len(monomers)\n",
    "total_mw = sum(MRs) / 100\n",
    "#rr_extracter takes a 2-D reactivity dataframe and extracts a 2-D list of reactivity of monomers listed.\n",
    "RRs = rr_extracter(rr_df, monomers)\n",
    "\n",
    "#SIMULATES POLYNOMIAL CONSTRUCTION\n",
    "run_simulation(N_MONs, N_CHAINs, MRs, RRs, avgDP, conv, CTP, PRUNE_OLIGOMERS)\n",
    "\n",
    "#PLOTS HETEROGENEITY\n",
    "plot_heterogeneity()\n",
    "\n",
    "#CALCULATES BCP\n",
    "calculate_bcp('test experiment', monomers[0], monomers[1], monomers[2], monomers[3], \n",
    "              MRs[0] / total_mw, MRs[1] / total_mw, MRs[2] / total_mw, MRs[3] / total_mw, \n",
    "              int_std, int_std_mw, initiator, init_conc, raft, raft_mw, i_r_ratio,\n",
    "              solvent, conv, target_mw, rxn_scale, rxn_vol, rxn_temp)"
   ]
  },
  {
   "cell_type": "code",
   "execution_count": null,
   "metadata": {},
   "outputs": [],
   "source": []
  }
 ],
 "metadata": {
  "kernelspec": {
   "display_name": "Python 3",
   "language": "python",
   "name": "python3"
  },
  "language_info": {
   "codemirror_mode": {
    "name": "ipython",
    "version": 3
   },
   "file_extension": ".py",
   "mimetype": "text/x-python",
   "name": "python",
   "nbconvert_exporter": "python",
   "pygments_lexer": "ipython3",
   "version": "3.7.4"
  }
 },
 "nbformat": 4,
 "nbformat_minor": 2
}
