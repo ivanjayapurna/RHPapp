{
 "cells": [
  {
   "cell_type": "markdown",
   "metadata": {},
   "source": [
    "# Simulate Sequences, BCP"
   ]
  },
  {
   "cell_type": "code",
   "execution_count": 3,
   "metadata": {},
   "outputs": [],
   "source": [
    "import pandas as pd\n",
    "import numpy as np\n",
    "\n",
    "from simulate import run_simulation, rr_extracter\n",
    "from bcp_v2 import main as calculate_bcp\n",
    "\n",
    "df_new = pd.read_csv('reagent_master_list.txt', delimiter='\\t')\n",
    "df_new.index = df_new['Code']\n",
    "\n",
    "rr_df = pd.read_csv('rr_data.txt', delimiter='\\t')\n",
    "rr_df.index = rr_df['reac']\n",
    "rr_df = rr_df.drop('reac', 1)"
   ]
  },
  {
   "cell_type": "markdown",
   "metadata": {},
   "source": [
    "### Runs Polymer Simulator and BCP"
   ]
  },
  {
   "cell_type": "code",
   "execution_count": 2,
   "metadata": {},
   "outputs": [
    {
     "name": "stdout",
     "output_type": "stream",
     "text": [
      "Simulation done! Sequence file saved @ outputs/NM4_MR[4, 3, 2, 1]_NC1000_DP105_conv50_CTP100_FILT0.csv\n",
      "initial guess mw: 13219.800000000001\n",
      "kd:  4.418944720260815e-08\n",
      "T0:  107009.58030418785\n",
      "I0:  107009.58025629999\n",
      "M0:  0.9999999999996029\n",
      "time: 46643.71275785755\n"
     ]
    },
    {
     "name": "stderr",
     "output_type": "stream",
     "text": [
      "C:\\ProgramData\\Anaconda3\\lib\\site-packages\\scipy\\optimize\\minpack.py:162: RuntimeWarning: The iteration is not making good progress, as measured by the \n",
      "  improvement from the last ten iterations.\n",
      "  warnings.warn(msg, RuntimeWarning)\n"
     ]
    },
    {
     "data": {
      "text/plain": [
       "(5,\n",
       " 116.10060404910745,\n",
       "                                vol (mL)     mass (mg)      conc (M)   mols (mol)\n",
       " Methyl methacrylate        4.240000e-02  3.969620e+01  4.000000e-01       0.0004\n",
       " tert-Butyl methacrylate    4.840000e-02  4.230820e+01  3.000000e-01       0.0003\n",
       " NHS Methacrylate           0.000000e+00  3.628020e+01  2.000000e-01       0.0002\n",
       " Styrene                    1.110000e-02  1.006320e+01  1.000000e-01       0.0001\n",
       " tert-Butyl Acrylate (TBA)  1.100000e-03  9.302000e-01  1.000000e-02       0.0000\n",
       " iso-Butyl Acrylate (IBA)   6.859314e+06  6.859314e+06  5.350479e+04      53.5048\n",
       " 2-Hydroxyethyl Acrylate   -0.000000e+00  1.242381e+07  1.070096e+05     107.0096\n",
       " Water                     -6.859313e+06 -6.859313e+09 -3.810730e+08 -381072.9557\n",
       " Total                      1.000000e+00 -6.840030e+09 -3.809124e+08 -380912.4404,\n",
       " -0.8478521333669116,\n",
       " 46643.71275785755)"
      ]
     },
     "execution_count": 2,
     "metadata": {},
     "output_type": "execute_result"
    }
   ],
   "source": [
    "#LIST 4 MONOMERS DESIRED FOR CONSTRUCTION\n",
    "monomers = [\"MMA\",\"TBMA\",\"NHSMA\",\"STY\"]\n",
    "\n",
    "#SPECIFY MOLAR RATIOS\n",
    "MRs = [4,3,2,1]\n",
    "\n",
    "#NORMALIZES MONOMER RATIOS TO SUM TO 100\n",
    "N_MONs = len(monomers)\n",
    "total_mw = sum(MRs) / 100\n",
    "\n",
    "#SET CONV AND AVERAGE DP\n",
    "conv = 0.5\n",
    "avgDP = 105\n",
    "\n",
    "#rr_extracter takes a 2-D reactivity dataframe and extracts a 2-D list of reactivity of monomers listed.\n",
    "RRs = rr_extracter(rr_df, monomers)\n",
    "\n",
    "#SET N_CHAINS, CTP, and whether to PRUNE_OLIGOMERS\n",
    "N_CHAINs = 1000\n",
    "CTP = 1\n",
    "PRUNE_OLIGOMERS = 0\n",
    "\n",
    "#SIMULATE POLYNOMIAL CONSTRUCTION\n",
    "run_simulation(N_MONs, N_CHAINs, MRs, RRs, avgDP, conv, CTP, PRUNE_OLIGOMERS)\n",
    "\n",
    "#CALCULATE BCP\n",
    "calculate_bcp('text exp', monomers[0], monomers[1], monomers[2], monomers[3], \n",
    "              MRs[0] / total_mw, MRs[1] / total_mw, MRs[2] / total_mw, MRs[3] / total_mw, \n",
    "              df_new[\"Code\"][50], 1, \n",
    "              df_new[\"Code\"][32], 1, \n",
    "              df_new[\"Code\"][7], 1, 2, \n",
    "              'H2O', conv, 5, \n",
    "              1, 1, 20)"
   ]
  },
  {
   "cell_type": "code",
   "execution_count": null,
   "metadata": {},
   "outputs": [],
   "source": []
  }
 ],
 "metadata": {
  "kernelspec": {
   "display_name": "Python 3",
   "language": "python",
   "name": "python3"
  },
  "language_info": {
   "codemirror_mode": {
    "name": "ipython",
    "version": 3
   },
   "file_extension": ".py",
   "mimetype": "text/x-python",
   "name": "python",
   "nbconvert_exporter": "python",
   "pygments_lexer": "ipython3",
   "version": "3.7.6"
  }
 },
 "nbformat": 4,
 "nbformat_minor": 2
}
