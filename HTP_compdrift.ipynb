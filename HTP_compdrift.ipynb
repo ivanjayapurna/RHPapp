{
 "cells": [
  {
   "cell_type": "code",
   "execution_count": 1,
   "metadata": {
    "collapsed": true
   },
   "outputs": [],
   "source": [
    "### IMPORTS\n",
    "from simulate import run_simulation"
   ]
  },
  {
   "cell_type": "markdown",
   "metadata": {},
   "source": [
    "### Run Single Simulation"
   ]
  },
  {
   "cell_type": "code",
   "execution_count": null,
   "metadata": {
    "collapsed": true
   },
   "outputs": [],
   "source": [
    "# Number of unique monomers\n",
    "N_MONs = 4\n",
    "\n",
    "# Molar ratios of each monomer\n",
    "# ex. if N_MONs = 4: [0.5, 0.25, 0.20, 0.05]\n",
    "MRs = [50, 25, 20, 5]\n",
    "\n",
    "# What model of copolymerization to use? (1) mayolewis (terminal) or (2) penultimate\n",
    "# NOTE FOR NOW ONLY MAYO-LEWIS IMPLEMENTED.\n",
    "#model = \"mayolewis\"\n",
    "\n",
    "# reactivity ratios of monomers, ex. for 4 monomers:\n",
    "#[r12, r13, r14]\n",
    "#[r21, r23, r24]\n",
    "#[r31, r32, r34]\n",
    "#[r41, r42, r43]\n",
    "RRs = ([[1, 1, 1],\n",
    "        [1, 1, 1],\n",
    "        [1, 1, 1],\n",
    "        [1, 1, 1]])\n",
    "\n",
    "# % conversion targetted (0-1), i.e. how much of the monomer pool do you want to use\n",
    "conv = 0.5\n",
    "\n",
    "# average degree of polymerization (chain length) you are targetting at YOUR conversion, NOT at 100%.\n",
    "avgDP = 100\n",
    "\n",
    "# number of polymer chains to simulate\n",
    "N_CHAINs = 10000\n",
    "\n",
    "# Chain transfer % (0-1)\n",
    "# TODO: replace this with direct PDI control (not sure how)\n",
    "# NOTE TO SELF: for now just fix CTP such that PDI ~ 1.2, as thats roughly the control our RAFT synthesis gives.\n",
    "CTP = 0.05\n",
    "\n",
    "# cutoff DP of chains considered as polymers not oligomers that get \"purified\" out\n",
    "# set to 0 if you don't want to do any filtration\n",
    "PRUNE_OLIGOMERS = 10"
   ]
  },
  {
   "cell_type": "code",
   "execution_count": null,
   "metadata": {
    "scrolled": true
   },
   "outputs": [],
   "source": [
    "run_simulation(N_MONs, N_CHAINs, MRs, RRs, avgDP, conv, CTP, PRUNE_OLIGOMERS, \"test\")"
   ]
  },
  {
   "cell_type": "markdown",
   "metadata": {
    "collapsed": true
   },
   "source": [
    "### Run Multiple Simulations"
   ]
  },
  {
   "cell_type": "code",
   "execution_count": 2,
   "metadata": {
    "collapsed": true
   },
   "outputs": [],
   "source": [
    "# Number of unique monomers\n",
    "N_MONs = 4\n",
    "\n",
    "# Molar ratios of each monomer\n",
    "# ex. if N_MONs = 4: [0.5, 0.25, 0.20, 0.05]\n",
    "MRs = [50, 25, 20, 5]\n",
    "\n",
    "# reactivity ratios of monomers, ex. for 4 monomers:\n",
    "#[r12, r13, r14]\n",
    "#[r21, r23, r24]\n",
    "#[r31, r32, r34]\n",
    "#[r41, r42, r43]\n",
    "RRs = ([[1, 1, 1],\n",
    "        [1, 1, 1],\n",
    "        [1, 1, 1],\n",
    "        [1, 1, 1]])\n",
    "\n",
    "# % conversion targetted (0-1), i.e. how much of the monomer pool do you want to use\n",
    "conv = 0.5\n",
    "\n",
    "# average degree of polymerization (chain length) you are targetting at YOUR conversion, NOT at 100%.\n",
    "avgDPs = [50, 100, 150, 200]\n",
    "\n",
    "# number of polymer chains to simulate\n",
    "N_CHAINs = 10000\n",
    "\n",
    "# Chain transfer % (0-1)\n",
    "# TODO: replace this with direct PDI control (not sure how)\n",
    "# NOTE TO SELF: for now just fix CTP such that PDI ~ 1.2, as thats roughly the control our RAFT synthesis gives.\n",
    "CTP = 0.1\n",
    "\n",
    "# cutoff DP of chains considered as polymers not oligomers that get \"purified\" out\n",
    "# set to 0 if you don't want to do any filtration\n",
    "PRUNE_OLIGOMERS = 10"
   ]
  },
  {
   "cell_type": "code",
   "execution_count": 3,
   "metadata": {},
   "outputs": [
    {
     "name": "stdout",
     "output_type": "stream",
     "text": [
      "Simulation done! Sequence file saved @ 50.csv\n",
      "Simulation done! Sequence file saved @ 100.csv\n",
      "Simulation done! Sequence file saved @ 150.csv\n",
      "Simulation done! Sequence file saved @ 200.csv\n"
     ]
    }
   ],
   "source": [
    "for avgDP in avgDPs:\n",
    "    run_simulation(N_MONs, N_CHAINs, MRs, RRs, avgDP, conv, CTP, PRUNE_OLIGOMERS, str(avgDP))"
   ]
  },
  {
   "cell_type": "code",
   "execution_count": null,
   "metadata": {
    "collapsed": true
   },
   "outputs": [],
   "source": []
  }
 ],
 "metadata": {
  "kernelspec": {
   "display_name": "Python 3",
   "language": "python",
   "name": "python3"
  },
  "language_info": {
   "codemirror_mode": {
    "name": "ipython",
    "version": 3
   },
   "file_extension": ".py",
   "mimetype": "text/x-python",
   "name": "python",
   "nbconvert_exporter": "python",
   "pygments_lexer": "ipython3",
   "version": "3.6.1"
  }
 },
 "nbformat": 4,
 "nbformat_minor": 2
}
