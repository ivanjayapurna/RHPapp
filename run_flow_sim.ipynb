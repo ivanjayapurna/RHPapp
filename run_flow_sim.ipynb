{
 "cells": [
  {
   "cell_type": "markdown",
   "id": "b124c38a",
   "metadata": {},
   "source": [
    "# How to use:\n",
    "This is an experimental flow polymerization simulator to design the sequences of block-random-heteropolymers. In the \"INPUT\" block:\n",
    "- set the number of uniqe monomers in your system (note: only tested for up to 5 unique monomers - small bugs may occur if you go over that)\n",
    "- the initial molar feeding ratios (MRs)\n",
    "- the reactivity ratios of monomers\n",
    "- the number of chains you wish to simulate (I recommend at least 15,000 for any kind of statistical analysis on the sequences for a sufficient sample population)\n",
    "- the average length of the first block to simulate\n",
    "- how polydisperse you want your batch of polymers to be (1 == no polydispersity, get closer and closer to 0 to get a wider spread of chain lengths)\n",
    "- set if you have a minimum chain length to prune off any oligomers.\n",
    "\n",
    "During simulation an input box under the \"SIMULATE\" cell will prompt you to keep inputting if you want to run the next block (type in anything other than \"n\") and if so, it will prompt you to input in the next set of MRs that you are \"injecting into your flow reactor system\" as well as the next block length you want to target to grow off of the previous block. Once you are done adding blocks enter \"n\" into the input prompt for next block.\n",
    "\n",
    "The remaining codes are just for plotting and visualization taken from the main RHPapp.\n",
    "\n",
    "Note for future work: Let me know if you want me to build a direct API to pass in a series of preset sequences from an input text file or something like that."
   ]
  },
  {
   "cell_type": "code",
   "execution_count": 9,
   "id": "f577975e",
   "metadata": {},
   "outputs": [],
   "source": [
    "# import simulator\n",
    "from simulate import run_flow_sim"
   ]
  },
  {
   "cell_type": "code",
   "execution_count": 2,
   "id": "a9c4993e",
   "metadata": {},
   "outputs": [
    {
     "name": "stdout",
     "output_type": "stream",
     "text": [
      "Polymerize next block? (y/n): y\n",
      "Enter a list of monomer ratios separated by a space: 1 0 0\n",
      "Enter next average block length:10\n",
      "Polymerizing next block with MRs: [1. 0. 0.] and average block length: 10\n",
      "Polymerize next block? (y/n): y\n",
      "Enter a list of monomer ratios separated by a space: 0 1 0\n",
      "Enter next average block length:10\n",
      "Polymerizing next block with MRs: [0. 1. 0.] and average block length: 10\n",
      "Polymerize next block? (y/n): y\n",
      "Enter a list of monomer ratios separated by a space: 0 0 1\n",
      "Enter next average block length:10\n",
      "Polymerizing next block with MRs: [0. 0. 1.] and average block length: 10\n",
      "Polymerize next block? (y/n): y\n",
      "Enter a list of monomer ratios separated by a space: 1 1 1\n",
      "Enter next average block length:30\n",
      "Polymerizing next block with MRs: [0.33333333 0.33333333 0.33333333] and average block length: 30\n",
      "Polymerize next block? (y/n): n\n",
      "Simulation done! Sequence file saved @ outputs/NM3_MR[33, 33, 33]_NC10000_DP70_conv10000_CTP100_FILT0.csv\n"
     ]
    }
   ],
   "source": [
    "############################\n",
    "######### INPUTS ###########\n",
    "############################\n",
    "\n",
    "# Number of unique monomers\n",
    "N_MONs = 3\n",
    "\n",
    "# Molar ratios of each monomer\n",
    "# ex. if N_MONs = 4: [0.5, 0.25, 0.20, 0.05]\n",
    "MRs = [0.33, 0.33, 0.33]\n",
    "\n",
    "# reactivity ratios of monomers, ex. for 4 monomers:\n",
    "#[r12, r13, r14]\n",
    "#[r21, r23, r24]\n",
    "#[r31, r32, r34]\n",
    "#[r41, r42, r43]\n",
    "#RRs = ([[1, 1, 1],\n",
    "#        [1, 1.09, 1.09],\n",
    "#        [1, 1.09, 1.09],\n",
    "#        [1, 1.09, 1.09],])\n",
    "RRs = ([[0.89, 1.35],\n",
    "        [1.09, 0.69],\n",
    "        [0.52, 0.91]])\n",
    "\n",
    "# number of polymer chains to simulate\n",
    "N_CHAINs = 10000\n",
    "\n",
    "# average degree of polymerization (chain length) you are targetting at YOUR conversion, NOT at 100%.\n",
    "BLOCK_LEN = 10\n",
    "\n",
    "# Chain transfer % (0-1)\n",
    "# TODO: replace this with direct PDI control\n",
    "CTP = 1\n",
    "\n",
    "# cutoff DP of chains considered as polymers not oligomers that get \"purified\" out\n",
    "# set to 0 if you don't want to do any filtration\n",
    "PRUNE_OLIGOMERS = 0"
   ]
  },
  {
   "cell_type": "code",
   "execution_count": null,
   "id": "cfc7cdfe",
   "metadata": {},
   "outputs": [],
   "source": [
    "############################\n",
    "######## SIMULATE ##########\n",
    "############################\n",
    "\n",
    "run_flow_sim(N_MONs, N_CHAINs, MRs, RRs, CTP, PRUNE_OLIGOMERS, BLOCK_LEN)"
   ]
  },
  {
   "cell_type": "code",
   "execution_count": 3,
   "id": "11394caa",
   "metadata": {},
   "outputs": [],
   "source": [
    "#importing packages for sequence analysis\n",
    "import pandas as pd\n",
    "import numpy as np\n",
    "import glob, os\n",
    "import csv\n",
    "import math\n",
    "import matplotlib\n",
    "import matplotlib.pyplot as plt\n",
    "from matplotlib.ticker import MaxNLocator\n",
    "import seaborn as sns\n",
    "import copy\n",
    "import csv\n",
    "from tqdm import tqdm_notebook\n",
    "from itertools import tee\n",
    "import re\n",
    "from scipy.optimize import curve_fit\n",
    "from scipy.interpolate import interp1d\n",
    "\n",
    "# this is important to allow us to save figs as editable .pdf\n",
    "# 42 is some magic number encoded into matplotlib for True Font type\n",
    "matplotlib.rcParams['pdf.fonttype'] = 42\n",
    "matplotlib.rcParams['ps.fonttype'] = 42\n",
    "new_rc_params = {'text.usetex': False, \"svg.fonttype\": 'none'}\n",
    "matplotlib.rcParams.update(new_rc_params)\n",
    "\n",
    "XUGROUP_IGOR_MACRO_SIZE = 22\n",
    "\n",
    "plt.rc('font', family='Helvetica', size=XUGROUP_IGOR_MACRO_SIZE)  # controls default text sizes\n",
    "plt.rc('axes', titlesize=XUGROUP_IGOR_MACRO_SIZE)  # fontsize of the axes title\n",
    "plt.rc('axes', labelsize=XUGROUP_IGOR_MACRO_SIZE)  # fontsize of the x and y labels\n",
    "plt.rc('xtick', labelsize=XUGROUP_IGOR_MACRO_SIZE)    # fontsize of the tick labels\n",
    "plt.rc('ytick', labelsize=XUGROUP_IGOR_MACRO_SIZE)    # fontsize of the tick labels\n",
    "plt.rc('legend', fontsize=XUGROUP_IGOR_MACRO_SIZE)    # legend fontsize\n",
    "plt.rc('figure', titlesize=XUGROUP_IGOR_MACRO_SIZE)  # fontsize of the figure title\n",
    "plt.rc('lines', markersize=10)\n",
    "plt.rc('lines', linewidth=2) # thicker lines to match Xu Group Igor Macros"
   ]
  },
  {
   "cell_type": "code",
   "execution_count": 4,
   "id": "4bbb731c",
   "metadata": {},
   "outputs": [
    {
     "name": "stdout",
     "output_type": "stream",
     "text": [
      "Number of sequence files: 1\n",
      "['outputs/NM3_MR[33, 33, 33]_NC10000_DP70_conv10000_CTP100_FILT0.csv']\n"
     ]
    }
   ],
   "source": [
    "### IMPORT ALL SEQUENCE CSV FILES IN FOLDER SPECIFIED BY PATH\n",
    "\n",
    "path = \"outputs\"\n",
    "csv_files = []\n",
    "for file in os.listdir(path):\n",
    "    if file.endswith(\".csv\"):\n",
    "        csv_files.append(os.path.join(path, file))\n",
    "csv_files = sorted(csv_files)\n",
    "print(\"Number of sequence files:\", len(csv_files))\n",
    "print(csv_files)\n",
    "\n",
    "### SET MOLECULAR WEIGHTS OF MONOMERS IN ORDER OF LABEL (labels are 1 indexed)\n",
    "Mw = [100.121,500,198.3,246.32, 104.15]\n",
    "HLBs = [8.45, 11.42, 5.125, 18.5, 4.865]\n"
   ]
  },
  {
   "cell_type": "code",
   "execution_count": 5,
   "id": "38ca39e0",
   "metadata": {},
   "outputs": [
    {
     "name": "stderr",
     "output_type": "stream",
     "text": [
      "/var/folders/rv/54f9k4tj70j46wh3k1hvhlfc0000gn/T/ipykernel_7402/655882240.py:11: TqdmDeprecationWarning: This function will be removed in tqdm==5.0.0\n",
      "Please use `tqdm.notebook.tqdm` instead of `tqdm.tqdm_notebook`\n",
      "  for m in tqdm_notebook(range(len(csv_files))):\n"
     ]
    },
    {
     "data": {
      "application/vnd.jupyter.widget-view+json": {
       "model_id": "0620027d1eea41a689bd0a88d3ad6a33",
       "version_major": 2,
       "version_minor": 0
      },
      "text/plain": [
       "  0%|          | 0/1 [00:00<?, ?it/s]"
      ]
     },
     "metadata": {},
     "output_type": "display_data"
    },
    {
     "data": {
      "text/html": [
       "<div>\n",
       "<style scoped>\n",
       "    .dataframe tbody tr th:only-of-type {\n",
       "        vertical-align: middle;\n",
       "    }\n",
       "\n",
       "    .dataframe tbody tr th {\n",
       "        vertical-align: top;\n",
       "    }\n",
       "\n",
       "    .dataframe thead th {\n",
       "        text-align: right;\n",
       "    }\n",
       "</style>\n",
       "<table border=\"1\" class=\"dataframe\">\n",
       "  <thead>\n",
       "    <tr style=\"text-align: right;\">\n",
       "      <th></th>\n",
       "      <th>Batch Name</th>\n",
       "      <th>Mons</th>\n",
       "      <th>MR1</th>\n",
       "      <th>MR2</th>\n",
       "      <th>MR3</th>\n",
       "      <th>MR4</th>\n",
       "      <th>MR5</th>\n",
       "      <th>NC</th>\n",
       "      <th>Avg Mn</th>\n",
       "      <th>Avg Mw</th>\n",
       "      <th>PDI</th>\n",
       "      <th>Avg DP</th>\n",
       "    </tr>\n",
       "  </thead>\n",
       "  <tbody>\n",
       "    <tr>\n",
       "      <th>0</th>\n",
       "      <td>NM3_MR[33, 33, 33]_NC10000_DP70_conv10000_CTP1...</td>\n",
       "      <td>3</td>\n",
       "      <td>33</td>\n",
       "      <td>33</td>\n",
       "      <td>33</td>\n",
       "      <td>0</td>\n",
       "      <td>0</td>\n",
       "      <td>10000</td>\n",
       "      <td>18634.093001</td>\n",
       "      <td>18990.888053</td>\n",
       "      <td>1.019147</td>\n",
       "      <td>71.0</td>\n",
       "    </tr>\n",
       "  </tbody>\n",
       "</table>\n",
       "</div>"
      ],
      "text/plain": [
       "                                          Batch Name  Mons  MR1  MR2  MR3  \\\n",
       "0  NM3_MR[33, 33, 33]_NC10000_DP70_conv10000_CTP1...     3   33   33   33   \n",
       "\n",
       "   MR4  MR5     NC        Avg Mn        Avg Mw       PDI  Avg DP  \n",
       "0    0    0  10000  18634.093001  18990.888053  1.019147    71.0  "
      ]
     },
     "execution_count": 5,
     "metadata": {},
     "output_type": "execute_result"
    }
   ],
   "source": [
    "### CALCULATE AVERAGE DP, Mn, Mw & PDI OF ALL SEQUENCES\n",
    "\n",
    "names = []\n",
    "num_seqs = []\n",
    "avg_Mns = []\n",
    "avg_Mws = []\n",
    "PDIs = []\n",
    "avg_DPs = []\n",
    "seqs = []\n",
    "\n",
    "for m in tqdm_notebook(range(len(csv_files))):\n",
    "    seq = []\n",
    "\n",
    "    with open(csv_files[m], mode = 'r') as file:\n",
    "        csvFile = csv.reader(file)\n",
    "        i = 0\n",
    "        for lines in csvFile:\n",
    "            i = i + 1\n",
    "            seq.append(lines)\n",
    "    raw_seq = copy.deepcopy(seq)\n",
    "    seqs.append(raw_seq)\n",
    "    seqlen = np.zeros(i)\n",
    "    seqweight = np.zeros(i)\n",
    "    seqweight2 = np.zeros(i)\n",
    "\n",
    "    for j in range(0,i):\n",
    "        seqlen[j] = len(seq[j])\n",
    "        for k in range(len(seq[j])):\n",
    "            seq[j][k] = Mw[int(seq[j][k])-1]\n",
    "        seqweight[j] = sum(seq[j])\n",
    "        seqweight2[j] = (sum(seq[j])**2)\n",
    "    \n",
    "    # calculating molecular weight of chain (number-average or weight-average),\n",
    "    # degree of polymerization (DP), and polydispersity index (PDI)\n",
    "    AvgMw = sum(seqweight2)/sum(seqweight)\n",
    "    AvgMn = sum(seqweight)/len(seqweight)\n",
    "    PDI = AvgMw/AvgMn\n",
    "    DP = sum(seqlen)/len(seqlen)\n",
    "    \n",
    "    # formatting general sequence statistics & average properties calculated as csv file\n",
    "    names.append(csv_files[m].replace(path, '').replace('/', '').replace('.csv', ''))\n",
    "    n_mons = []\n",
    "    MR1s = []\n",
    "    MR2s = []\n",
    "    MR3s = []\n",
    "    MR4s = []\n",
    "    MR5s = []\n",
    "    for name in names:\n",
    "        try:\n",
    "            # n_mons, MR1, ... MRN, n_chains, DP, conv, CTP, Filt\n",
    "            num_vals = re.findall(r'\\d+', name)\n",
    "            n_mons.append(int(num_vals[0]))\n",
    "            MR1s.append(int(num_vals[1]))\n",
    "            MR2s.append(int(num_vals[2]))\n",
    "            if len(num_vals) > 8:\n",
    "                MR3s.append(int(num_vals[3]))\n",
    "            else:\n",
    "                MR3s.append(0)\n",
    "            if len(num_vals) > 9:\n",
    "                MR4s.append(int(num_vals[4]))\n",
    "            else:\n",
    "                MR4s.append(0)\n",
    "            if len(num_vals) > 10:\n",
    "                MR5s.append(int(num_vals[5]))\n",
    "            else:\n",
    "                MR5s.append(0)\n",
    "        except IndexError as err:\n",
    "            n_mons.append(4)\n",
    "            MR1s.append(0)\n",
    "            MR2s.append(0)\n",
    "            MR3s.append(0)\n",
    "            MR4s.append(0)\n",
    "            MR5s.append(0)\n",
    "    num_seqs.append(i)\n",
    "    avg_Mns.append(AvgMn)\n",
    "    avg_Mws.append(AvgMw)\n",
    "    PDIs.append(PDI)\n",
    "    avg_DPs.append(DP)\n",
    "    \n",
    "d = {'Batch Name': names, 'Mons': n_mons, 'MR1': MR1s, 'MR2': MR2s, 'MR3': MR3s, 'MR4': MR4s, 'MR5': MR5s, 'NC': num_seqs, 'Avg Mn': avg_Mns, 'Avg Mw': avg_Mws, 'PDI': PDIs, 'Avg DP': avg_DPs}\n",
    "df_prop = pd.DataFrame(data=d)\n",
    "\n",
    "#Read csv output files of 'n' batches and convert to n-element pd dataframe\n",
    "dfs = []\n",
    "seq_lens = []\n",
    "\n",
    "for m in range(len(csv_files)):\n",
    "    seq = []\n",
    "    row_size = [] \n",
    "    \n",
    "    with open(csv_files[m], mode = 'r') as file:\n",
    "        csvFile = csv.reader(file)\n",
    "        i = 0\n",
    "        for lines in csvFile:\n",
    "            i = i + 1\n",
    "            seq.append(lines)\n",
    "            row_size.append(len(lines))\n",
    "        df = pd.DataFrame(seq)\n",
    "        dfs.append(df)\n",
    "        seq_lens.append(row_size)\n",
    "\n",
    "df_prop"
   ]
  },
  {
   "cell_type": "code",
   "execution_count": 8,
   "id": "c604c8dc",
   "metadata": {},
   "outputs": [
    {
     "data": {
      "text/plain": [
       "<Figure size 432x288 with 0 Axes>"
      ]
     },
     "metadata": {},
     "output_type": "display_data"
    },
    {
     "data": {
      "image/png": "[encoded data removed]",
      "text/plain": [
       "<Figure size 2000x800 with 2 Axes>"
      ]
     },
     "metadata": {},
     "output_type": "display_data"
    },
    {
     "data": {
      "text/plain": [
       "<Figure size 432x288 with 0 Axes>"
      ]
     },
     "metadata": {},
     "output_type": "display_data"
    }
   ],
   "source": [
    "### VISUALIZE SEQUENCE SIMULATED\n",
    "import matplotlib.colors as colors\n",
    "\n",
    "batch_no = 0\n",
    "seq_no = 0\n",
    "num_seqs = 50\n",
    "\n",
    "chains = []\n",
    "for i in range(num_seqs):\n",
    "    chains.append([int(x) if x != None else 0 for x in dfs[batch_no].iloc[seq_no + i]])\n",
    "\n",
    "plt.cla()   # Clear axis\n",
    "plt.clf()   # Clear figure\n",
    "plt.figure(num=None, figsize=(25, 10), dpi=80, facecolor='w', edgecolor='k')\n",
    "CMAP = ['white','blue','red','green','yellow','pink']\n",
    "ax = sns.heatmap(chains, vmin=0, vmax=df_prop.iloc[batch_no]['Mons'], linewidth=0.2, xticklabels=False, yticklabels=False, square=True, cmap=CMAP[:(N_MONs+1)])\n",
    "cb = ax.collections[0].colorbar\n",
    "cb.set_ticks(np.arange(N_MONs+1))\n",
    "cb.set_ticklabels(['', 'Mon 1', 'Mon 2', 'Mon 3', 'Mon 4', 'Mon 5'][:N_MONs+1])\n",
    "\n",
    "plt.show()\n",
    "plt.cla()   # Clear axis\n",
    "plt.clf()   # Clear figure\n"
   ]
  },
  {
   "cell_type": "code",
   "execution_count": null,
   "id": "61078bdf",
   "metadata": {},
   "outputs": [],
   "source": []
  }
 ],
 "metadata": {
  "kernelspec": {
   "display_name": "Python 3 (ipykernel)",
   "language": "python",
   "name": "python3"
  },
  "language_info": {
   "codemirror_mode": {
    "name": "ipython",
    "version": 3
   },
   "file_extension": ".py",
   "mimetype": "text/x-python",
   "name": "python",
   "nbconvert_exporter": "python",
   "pygments_lexer": "ipython3",
   "version": "3.9.7"
  }
 },
 "nbformat": 4,
 "nbformat_minor": 5
}
